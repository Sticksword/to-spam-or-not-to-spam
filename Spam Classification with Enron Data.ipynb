{
 "cells": [
  {
   "cell_type": "code",
   "execution_count": 72,
   "metadata": {},
   "outputs": [],
   "source": [
    "# good pre-reads\n",
    "# paper that came with enron data: http://www2.aueb.gr/users/ion/docs/ceas2006_paper.pdf\n",
    "\n",
    "import os\n",
    "import re\n",
    "from typing import Any\n",
    "\n",
    "import pandas as pd\n",
    "import numpy as np\n",
    "import urlextract\n",
    "\n",
    "from sklearn.feature_extraction.text import CountVectorizer, TfidfVectorizer\n",
    "from sklearn.base import BaseEstimator, TransformerMixin\n",
    "from sklearn import model_selection\n",
    "\n",
    "from sklearn.linear_model import LogisticRegression\n",
    "from sklearn.neighbors import KNeighborsClassifier\n",
    "from sklearn.svm import SVC\n",
    "from sklearn.ensemble import RandomForestClassifier\n",
    "from sklearn.naive_bayes import GaussianNB\n",
    "from xgboost import XGBClassifier\n",
    "\n",
    "from sklearn.pipeline import Pipeline\n",
    "from sklearn.utils import class_weight\n",
    "from sklearn.metrics import precision_score, recall_score, classification_report, confusion_matrix\n",
    "\n",
    "from nltk.corpus import stopwords\n",
    "from nltk.stem.snowball import SnowballStemmer\n",
    "\n",
    "import matplotlib.pyplot as plt\n",
    "import seaborn as sns"
   ]
  },
  {
   "cell_type": "code",
   "execution_count": 49,
   "metadata": {},
   "outputs": [
    {
     "name": "stdout",
     "output_type": "stream",
     "text": [
      "Amount of ham files: 3672\n",
      "Amount of spam files: 1500\n",
      "Spam to Ham Ratio: 0.4084967320261438\n"
     ]
    }
   ],
   "source": [
    "ham_filenames = [name for name in sorted(os.listdir('data/enron1/ham')) if len(name) > 15]\n",
    "spam_filenames = [name for name in sorted(os.listdir('data/enron1/spam')) if len(name) > 15]\n",
    "\n",
    "print('Amount of ham files:', len(ham_filenames))\n",
    "print('Amount of spam files:', len(spam_filenames))    \n",
    "print('Spam to Ham Ratio:',len(spam_filenames)/len(ham_filenames))"
   ]
  },
  {
   "cell_type": "code",
   "execution_count": 50,
   "metadata": {},
   "outputs": [
    {
     "name": "stdout",
     "output_type": "stream",
     "text": [
      "['Subject: our recommendations make you big money\\n', 'c . d . financial newsletter\\n', 'alert :\\n', 'strong buy\\n', 'issued on dtoi\\n', 'news alert * * * * * * * * 3 / 25 / 2004 4 : 00 pm est\\n', '* dtomi receives request for quote for tandem axle\\n', 'enclosed trailers *\\n', '* dtoi up 50 % *\\n', 'dtomi , inc .\\n', 'symbol : dtoi otc . bb\\n', 'price $ 1 . 25\\n', 'shares out : 26 million\\n', 'market capitalization : $ 24 million\\n', 'significant revenue growth in 2004\\n', 'rating : strong buy\\n', '7 days trading target : $ 2 . 00\\n', '30 day trading target : $ 3 . 50\\n', '* * strong buy alert * * strong\\n', 'buy alert * *\\n', 'dtomi , inc . ( dtomi or the\\n', 'company ) markets a unique air spring suspension system , air spring axlet\\n', ', that allows small to medium - sized trailers to be lowered to near flush with\\n', 'the ground , greatly improving the safety and ease with which heavy cargo can be\\n', 'loaded and unloaded . an aggressive commercialization schedule may bring\\n', 'profitability by mid 2004 .\\n', 'dtomi , inc is about to\\n', 'release big news in the next week and the stock is expected to rise through the\\n', 'roof . as one of our subscribers you already probably reaped the benefits of our\\n', 'china world trade corp ( cwtd ) recommendation 2 weeks ago . cwtd rose 900 % in\\n', \"only 3 days and all of our subscribers turned a quick buck ! don ' t delay\\n\", 'and get in on the action early ! ! dtomi , inc . ( dtoi ) is about to explode so get\\n', \"in on the action before it ' s too late !\\n\", '·\\n', 'dtomi , inc . ( dtomi or the\\n', 'company ) markets a unique air spring suspension system , airspring axle , that\\n', 'allows small to medium - sized trailers to be lowered to near flush with the\\n', 'ground , greatly improving the safety and ease with which heavy cargo can be\\n', 'loaded and unloaded\\n', '·\\n', 'over 2 million small to medium\\n', 'sized trailers are sold annually in the us .\\n', 'these trailers are priced up to and over $ 5 , 000 ,\\n', 'and are marketed to rental agencies , home - improvement retailers that maintain\\n', 'rental fleets , and individuals who need to haul heavy items such as contractor\\n', 'equipment , motorcycles , snowmobiles , jet skis , cars and horses .\\n', '·\\n', 'management estimates that the\\n', \"initial market for the company ' s air spring axle system is $ 10 - $ 15 million .\\n\", 'there are thousands of trailer rental locations in the us , and the system can\\n', 'improve customer satisfaction , safety and labor requirements . dtomi is working\\n', 'with a leading home improvement conducting a four - month test of 50 trailers .\\n', '·\\n', 'the total market will grow to\\n', '$ 140 million as the system is licensed to trailer manufacturers .\\n', 'dtomi plans to assist manufacturers with\\n', 'integration of the air spring axle system into existing trailer designs , and to\\n', 'collaborate with them on marketing efforts . management expects licensing fees of\\n', '$ 200 - $ 300 per trailer .\\n', '·\\n', 'dtomi expects be cash flow\\n', 'positive by the end of 2004 . an\\n', 'aggressive multi - media marketing effort is underway , and rental fleet sales and\\n', 'licensing revenues are expected to bring high margins . the company recently\\n', 'raised approximately $ 1 . 3 million in equity capital .\\n', '·\\n', 'the company has begun\\n', 'aggressively marketing its product\\n', 'through a variety of methods , in an attempt to gain early market share and\\n', 'preempt any competition or patent infringements .\\n', '·\\n', 'these trailers are sold to\\n', 'individual consumers , car and truck rental agencies , and\\n', 'hardware stores that maintain rental fleets . there are several thousand\\n', 'trailer rental locations in the u . s . , including true value hardware ,\\n', 'with 4 , 100 rental locations ; united rentals , with 550 locations ;\\n', 'and home depot , with 520 locations .\\n', '·\\n', 'dtomi\\n', 'estimates that the near - term domestic market for the air spring axlet is 50 , 000\\n', 'units per year , which should generate revenues of $ 10 to $ 15 million .\\n', 'overhead is low , and initial margins should exceed 30 % . commercialization is\\n', 'expected to ramp up very quickly , and the company expects to be cash flow\\n', 'positive by year - end 2004\\n', '·\\n', 'dtomi\\n', 'raised approximately $ 1 . 26 million in equity\\n', 'financing through december 2003 , management expects that this cash will cover\\n', 'all important rollout operations and support the commercialization of the air\\n', 'spring axlet until breakeven is reached .\\n', 'the\\n', 'rental and specialty trailer market\\n', 'the 1992 census indicated that there are\\n', 'approximately 15 million small and medium sized trailers in the u . s . , and that\\n', 'about one million units are sold annually . data from the leading trailer\\n', 'manufacturer , wells cargo , suggests that the market may be two million trailers\\n', 'per year . these trailers are sold to individual consumers , car and truck rental\\n', 'agencies , and hardware stores that maintain rental fleets . there are several\\n', 'thousand trailer rental locations in the u . s . major proprietors include true\\n', 'value hardware , with 4 , 100 rental locations ; united rentals , with 550 locations ;\\n', 'and home depot , with 520 locations .\\n', 'do not waste\\n', \"your money investing in companies that don ' t have what it takes to be\\n\", 'successful . a track record of years of business is just the kind of foundation a\\n', 'great company needs to succeed .\\n', 'disclaimer :\\n', 'verify all claims and do your own due diligence . apple investments , inc profiles\\n', 'are not a solicitation or recommendation to buy , sell or hold securities . apple\\n', 'investments , inc is not offering securities for sale . an offer to buy or sell can\\n', 'be made only with accompanying disclosure documents and only in the states and\\n', 'provinces for which they are approved . all statements and expressions are the\\n', 'sole opinion of the editor and are subject to change without notice . apple\\n', 'investments , inc is not liable for any investment decisions by its readers or\\n', 'subscribers . it is strongly recommended that any purchase or sale decision be\\n', 'discussed with a financial adviser , or a broker - dealer , or a member of any\\n', 'financial regulatory bodies . the information contained in apple investments , inc\\n', 'profiles is provided as an information service only . the accuracy or\\n', 'completeness of the information is not warranted and is only as reliable as the\\n', 'sources from which it was obtained . it should be understood the there is no\\n', 'guarantee past performance will be indicative of future results . investors are\\n', 'cautioned that they may lose all or a portion of their investment if they make a\\n', 'purchase in apple investments , inc profiled stocks . in order to be in full\\n', 'compliance with the securities act of 1933 , section 17 ( b ) , apple investments , inc\\n', 'and its management receives fees from profiled companies or agents representing\\n', 'the profiled companies . these fees may be paid in cash or in stock and they will\\n', 'be fully disclosed in each profile . apple investments , inc has been compensated\\n', 'twenty thousand dollars cash for the dissemination for this report , by a third\\n', 'party . neither apple investments , inc nor any of its affiliates , or employees\\n', 'shall be liable to you or anyone else for any loss or damages from use of this\\n', 'information piece , caused in whole or part by its negligence or contingencies\\n', 'beyond its control in procuring , compiling , interpreting , reporting or\\n', 'delivering this e mail and any contents the reader should verify all claims and\\n', 'do their own due diligence before investing in any securities mentioned .\\n', 'investing in securities is speculative and carries a high degree of risk . the\\n', 'information found in this home page is protected by the copyright laws of the\\n', 'united states and may not be copied , or reproduced in any way without the\\n', 'expressed , written consent of the editor of apple investments , inc .\\n', 'gfymo enxcf gjxsd rmxjx rwtre pwtkkmtyep pkhnh trdoj ktowv ikgra pphzv zzsyt sudlz\\n']\n",
      "\n",
      "\n",
      "\n",
      "what one test email looks like:  {'subject': 'Subject: dobmeos with hgh my energy level has gone up ! stukm\\n', 'body': ['introducing\\n', 'doctor - formulated\\n', 'hgh\\n', 'human growth hormone - also called hgh\\n', 'is referred to in medical science as the master hormone . it is very plentiful\\n', 'when we are young , but near the age of twenty - one our bodies begin to produce\\n', 'less of it . by the time we are forty nearly everyone is deficient in hgh ,\\n', 'and at eighty our production has normally diminished at least 90 - 95 % .\\n', 'advantages of hgh :\\n', '- increased muscle strength\\n', '- loss in body fat\\n', '- increased bone density\\n', '- lower blood pressure\\n', '- quickens wound healing\\n', '- reduces cellulite\\n', '- improved vision\\n', '- wrinkle disappearance\\n', '- increased skin thickness texture\\n', '- increased energy levels\\n', '- improved sleep and emotional stability\\n', '- improved memory and mental alertness\\n', '- increased sexual potency\\n', '- resistance to common illness\\n', '- strengthened heart muscle\\n', '- controlled cholesterol\\n', '- controlled mood swings\\n', '- new hair growth and color restore\\n', 'read\\n', 'more at this website\\n', 'unsubscribe\\n']}\n"
     ]
    }
   ],
   "source": [
    "def load_file(is_spam, filename):\n",
    "    directory = \"data/enron1/spam\" if is_spam else \"data/enron1/ham\"\n",
    "    # http://python-notes.curiousefficiency.org/en/latest/python3/text_file_processing.html\n",
    "    # latin-1 encoding because some of the spam files have retarded characters\n",
    "    with open(os.path.join(directory, filename), encoding=\"latin-1\") as f:\n",
    "        lines = f.readlines()\n",
    "        # like this one\n",
    "        if filename.startswith(\"0754\"):\n",
    "            print(lines)\n",
    "        return {\n",
    "            'subject': lines[0],\n",
    "            'body': lines[1:],\n",
    "        }\n",
    "    \n",
    "ham_emails = [load_file(is_spam=False, filename=name) for name in ham_filenames]\n",
    "spam_emails = [load_file(is_spam=True, filename=name) for name in spam_filenames]\n",
    "    \n",
    "    \n",
    "testEmail = spam_emails[0]\n",
    "\n",
    "print('\\n\\n')\n",
    "print('what one test email looks like: ', testEmail)"
   ]
  },
  {
   "cell_type": "code",
   "execution_count": 51,
   "metadata": {},
   "outputs": [],
   "source": [
    "snowball_stemmer = SnowballStemmer('english')\n",
    "\n",
    "class EmailJsonToText(BaseEstimator, TransformerMixin):\n",
    "    def __init__(self, lowercaseConversion = True, punctuationRemoval = True, \n",
    "                 urlReplacement = True, numberReplacement = False, stemming = False):\n",
    "        self.lowercaseConversion = lowercaseConversion\n",
    "        self.punctuationRemoval = punctuationRemoval\n",
    "        self.urlReplacement = urlReplacement\n",
    "        self.urlExtractor = urlextract.URLExtract()\n",
    "        self.numberReplacement = numberReplacement\n",
    "        self.stemming = stemming\n",
    "    def fit(self, X, y=None):\n",
    "        return self\n",
    "    def transform(self, X, y=None):\n",
    "        X_to_words = []\n",
    "        for emailJson in X:\n",
    "            text = ' '.join(emailJson['body'])\n",
    "            \n",
    "            if text is None:\n",
    "                text = 'empty'\n",
    "            if self.lowercaseConversion:\n",
    "                text = text.lower()\n",
    "                \n",
    "            if self.urlReplacement:\n",
    "                urls = self.urlExtractor.find_urls(text)\n",
    "                for url in urls:\n",
    "                   text = text.replace(url, 'URL')   \n",
    "            \n",
    "            # apparently removing numbers helped\n",
    "            if self.numberReplacement:\n",
    "                text = re.sub('\\d', '%d', text)\n",
    "                    \n",
    "            if self.punctuationRemoval:\n",
    "                text = text.replace('.','')\n",
    "                text = text.replace(',','')\n",
    "                text = text.replace('!','')\n",
    "                text = text.replace('?','')\n",
    "                \n",
    "            if self.stemming:\n",
    "                words = text.split(' ')\n",
    "                \n",
    "                stemmed_words = []\n",
    "                for word in words:\n",
    "                    stemmed_words.append(snowball_stemmer.stem(word))\n",
    "                \n",
    "                text = ' '.join(stemmed_words)\n",
    "            \n",
    "            X_to_words.append(text)\n",
    "        return np.array(X_to_words)"
   ]
  },
  {
   "cell_type": "code",
   "execution_count": 52,
   "metadata": {},
   "outputs": [
    {
     "data": {
      "text/plain": [
       "<3x173 sparse matrix of type '<class 'numpy.int64'>'\n",
       "\twith 175 stored elements in Compressed Sparse Row format>"
      ]
     },
     "execution_count": 52,
     "metadata": {},
     "output_type": "execute_result"
    }
   ],
   "source": [
    "X_few = ham_emails[:3]\n",
    "X_few_text = EmailJsonToText().fit_transform(X_few)\n",
    "vocab_transformer = CountVectorizer()\n",
    "X_few_vectors = vocab_transformer.fit_transform(X_few_text)\n",
    "X_few_vectors"
   ]
  },
  {
   "cell_type": "code",
   "execution_count": 53,
   "metadata": {},
   "outputs": [
    {
     "data": {
      "text/plain": [
       "{'gary': 101,\n",
       " 'production': 139,\n",
       " 'from': 98,\n",
       " 'the': 157,\n",
       " 'high': 111,\n",
       " 'island': 118,\n",
       " 'larger': 119,\n",
       " 'block': 63,\n",
       " 'commenced': 74,\n",
       " 'on': 134,\n",
       " 'saturday': 145,\n",
       " 'at': 57,\n",
       " '00': 0,\n",
       " 'about': 49,\n",
       " '500': 30,\n",
       " 'gross': 107,\n",
       " 'carlos': 70,\n",
       " 'expects': 91,\n",
       " 'between': 61,\n",
       " 'and': 53,\n",
       " '10': 3,\n",
       " '000': 1,\n",
       " 'for': 96,\n",
       " 'tomorrow': 161,\n",
       " 'vastar': 164,\n",
       " 'owns': 136,\n",
       " '68': 36,\n",
       " 'of': 133,\n",
       " 'george': 103,\n",
       " '6992': 37,\n",
       " 'forwarded': 97,\n",
       " 'by': 66,\n",
       " 'weissman': 168,\n",
       " 'hou': 112,\n",
       " 'ect': 85,\n",
       " '12': 6,\n",
       " '13': 7,\n",
       " '99': 48,\n",
       " '16': 9,\n",
       " 'am': 51,\n",
       " 'daren': 80,\n",
       " 'farmer': 92,\n",
       " '38': 26,\n",
       " 'to': 159,\n",
       " 'rodriguez': 144,\n",
       " 'cc': 71,\n",
       " 'melissa': 122,\n",
       " 'graves': 106,\n",
       " 'subject': 152,\n",
       " 'resources': 143,\n",
       " 'inc': 116,\n",
       " 'please': 137,\n",
       " 'call': 67,\n",
       " 'linda': 120,\n",
       " 'get': 104,\n",
       " 'everything': 90,\n",
       " 'set': 147,\n",
       " 'up': 163,\n",
       " 'going': 105,\n",
       " 'estimate': 89,\n",
       " 'coming': 72,\n",
       " 'with': 170,\n",
       " 'increase': 117,\n",
       " 'each': 84,\n",
       " 'following': 95,\n",
       " 'day': 82,\n",
       " 'based': 59,\n",
       " 'my': 125,\n",
       " 'conversations': 77,\n",
       " 'bill': 62,\n",
       " 'fischer': 94,\n",
       " 'bmar': 64,\n",
       " '34': 24,\n",
       " 'enron': 87,\n",
       " 'north': 128,\n",
       " 'america': 52,\n",
       " 'corp': 78,\n",
       " 'bryan': 65,\n",
       " 'darren': 81,\n",
       " 'attached': 58,\n",
       " 'appears': 54,\n",
       " 'be': 60,\n",
       " 'nomination': 126,\n",
       " 'previously': 138,\n",
       " 'erroneously': 88,\n",
       " 'referred': 142,\n",
       " 'as': 56,\n",
       " 'well': 169,\n",
       " 'now': 130,\n",
       " 'commence': 73,\n",
       " 'sometime': 151,\n",
       " 'told': 160,\n",
       " 'harris': 108,\n",
       " 'that': 156,\n",
       " 'we': 167,\n",
       " 'her': 109,\n",
       " 'telephone': 154,\n",
       " 'number': 131,\n",
       " 'in': 115,\n",
       " 'gas': 102,\n",
       " 'control': 76,\n",
       " 'so': 149,\n",
       " 'she': 148,\n",
       " 'can': 69,\n",
       " 'provide': 140,\n",
       " 'notification': 129,\n",
       " 'turn': 162,\n",
       " 'numbers': 132,\n",
       " 'record': 141,\n",
       " 'are': 55,\n",
       " '281': 18,\n",
       " '584': 33,\n",
       " '3359': 23,\n",
       " 'voice': 166,\n",
       " '713': 39,\n",
       " '312': 20,\n",
       " '1689': 10,\n",
       " 'fax': 93,\n",
       " 'would': 171,\n",
       " 'you': 172,\n",
       " 'see': 146,\n",
       " 'someone': 150,\n",
       " 'contacts': 75,\n",
       " 'advises': 50,\n",
       " 'how': 114,\n",
       " 'submit': 153,\n",
       " 'future': 100,\n",
       " 'nominations': 127,\n",
       " 'via': 165,\n",
       " 'mail': 121,\n",
       " 'or': 135,\n",
       " 'thanks': 155,\n",
       " '09': 2,\n",
       " '44': 29,\n",
       " '43': 27,\n",
       " 'hi': 110,\n",
       " 'effective': 86,\n",
       " '11': 5,\n",
       " 'mscf': 124,\n",
       " 'min': 123,\n",
       " 'ftp': 99,\n",
       " 'time': 158,\n",
       " '925': 46,\n",
       " '24': 15,\n",
       " 'hours': 113,\n",
       " '908': 45,\n",
       " '878': 44,\n",
       " '840': 42,\n",
       " '793': 41,\n",
       " '14': 8,\n",
       " '738': 40,\n",
       " '674': 35,\n",
       " '18': 11,\n",
       " '602': 34,\n",
       " '20': 12,\n",
       " '521': 31,\n",
       " '22': 13,\n",
       " '431': 28,\n",
       " '332': 22,\n",
       " '26': 16,\n",
       " '224': 14,\n",
       " '28': 17,\n",
       " '108': 4,\n",
       " '30': 19,\n",
       " '982': 47,\n",
       " '32': 21,\n",
       " '847': 43,\n",
       " '703': 38,\n",
       " '36': 25,\n",
       " '549': 32,\n",
       " 'calpine': 68,\n",
       " 'daily': 79,\n",
       " 'doc': 83}"
      ]
     },
     "execution_count": 53,
     "metadata": {},
     "output_type": "execute_result"
    }
   ],
   "source": [
    "vocab_transformer.vocabulary_"
   ]
  },
  {
   "cell_type": "code",
   "execution_count": 54,
   "metadata": {},
   "outputs": [],
   "source": [
    "X = np.array(ham_emails + spam_emails)\n",
    "y = np.array([0] * len(ham_emails) + [1] * len(spam_emails))\n",
    "\n",
    "X_train, X_test, y_train, y_test = model_selection.train_test_split(X, y, test_size=0.2, random_state=42)"
   ]
  },
  {
   "cell_type": "code",
   "execution_count": 55,
   "metadata": {},
   "outputs": [
    {
     "name": "stdout",
     "output_type": "stream",
     "text": [
      "  (1, 224)\t2\n",
      "  (1, 312)\t3\n",
      "  (1, 249)\t2\n",
      "  (1, 275)\t2\n",
      "  (1, 277)\t2\n",
      "  (1, 146)\t2\n",
      "  (1, 169)\t1\n",
      "  (1, 326)\t1\n",
      "  (1, 0)\t2\n",
      "  (1, 91)\t4\n",
      "  (1, 240)\t3\n",
      "  (1, 157)\t3\n",
      "  (1, 204)\t2\n",
      "  (1, 25)\t11\n",
      "  (1, 3)\t18\n",
      "  (1, 349)\t4\n",
      "  (1, 356)\t5\n",
      "  (1, 305)\t1\n",
      "  (1, 106)\t1\n",
      "  (1, 230)\t7\n",
      "  (1, 108)\t2\n",
      "  (1, 217)\t3\n",
      "  (1, 365)\t5\n",
      "  (1, 251)\t10\n",
      "  (1, 188)\t17\n",
      "  :\t:\n",
      "  (1, 265)\t1\n",
      "  (1, 68)\t1\n",
      "  (1, 19)\t1\n",
      "  (1, 129)\t1\n",
      "  (1, 266)\t1\n",
      "  (1, 72)\t1\n",
      "  (1, 16)\t1\n",
      "  (1, 121)\t1\n",
      "  (1, 267)\t1\n",
      "  (1, 78)\t1\n",
      "  (1, 12)\t1\n",
      "  (1, 111)\t1\n",
      "  (1, 268)\t1\n",
      "  (1, 81)\t1\n",
      "  (1, 9)\t1\n",
      "  (1, 99)\t1\n",
      "  (2, 292)\t1\n",
      "  (2, 227)\t1\n",
      "  (2, 155)\t1\n",
      "  (2, 179)\t1\n",
      "  (2, 187)\t1\n",
      "  (2, 156)\t1\n",
      "  (2, 180)\t1\n",
      "  (2, 229)\t1\n",
      "  (2, 293)\t1\n",
      "['00', '00 500', '00 daren', '000', '000 108', '000 224', '000 332', '000 431', '000 521', '000 549', '000 602', '000 674', '000 703', '000 738', '000 793', '000 840', '000 847', '000 878', '000 908', '000 982', '000 gross', '000 increase', '09', '09 38', '09 44', '10', '10 00', '10 000', '10 16', '10 34', '10 38', '10 99', '108', '108 24', '11', '11 99', '12', '12 000', '12 10', '12 11', '12 13', '13', '13 99', '14', '14 000', '16', '16 000', '16 daren', '1689', '1689 fax', '18', '18 000', '20', '20 000', '22', '22 000', '224', '224 24', '24', '24 000', '24 hours', '26', '26 000', '28', '28 000', '281', '281 584', '30', '30 000', '312', '312 1689', '32', '32 000', '332', '332 24', '3359', '3359 voice', '34', '34 000', '34 enron', '36', '36 000', '38', '38 43', '38 carlos', '43', '43 george', '431', '431 24', '44', '44 linda', '500', '500 10', '500 925', '500 coming', '500 gross', '521', '521 24', '549', '549 24', '584', '584 3359', '602', '602 24', '674', '674 24', '68', '68 gross', '6992', '6992 forwarded', '703', '703 24', '713', '713 312', '738', '738 24', '793', '793 24', '840', '840 24', '847', '847 24', '878', '878 24', '908', '908 24', '925', '925 24', '982', '982 24', '99', '99 09', '99 10', '99 mscf', 'advises', 'advises submit', 'america', 'america corp', 'appears', 'appears nomination', 'attached', 'attached appears', 'based', 'based conversations', 'bill', 'bill fischer', 'block', 'block commenced', 'block previously', 'bmar', 'bmar forwarded', 'bryan', 'bryan hou', 'call', 'call linda', 'calpine', 'calpine daily', 'carlos', 'carlos expects', 'carlos please', 'carlos rodriguez', 'cc', 'cc gary', 'cc george', 'cc subject', 'coming', 'coming tomorrow', 'commence', 'commence production', 'commenced', 'commenced saturday', 'contacts', 'contacts linda', 'control', 'control provide', 'conversations', 'conversations bill', 'corp', 'corp george', 'daily', 'daily gas', 'daren', 'daren farmer', 'darren', 'darren attached', 'day', 'day based', 'doc', 'ect', 'ect 12', 'ect cc', 'ect ect', 'ect melissa', 'ect subject', 'effective', 'effective 12', 'enron', 'enron north', 'erroneously', 'erroneously referred', 'estimate', 'estimate 500', 'everything', 'everything set', 'expects', 'expects 500', 'expects well', 'farmer', 'farmer 12', 'farmer hou', 'fax', 'fax voice', 'fax would', 'fischer', 'fischer bmar', 'following', 'following day', 'forwarded', 'forwarded daren', 'forwarded george', 'ftp', 'ftp time', 'future', 'future nominations', 'gary', 'gary bryan', 'gary production', 'gas', 'gas control', 'gas nomination', 'george', 'george 6992', 'george weissman', 'get', 'get everything', 'get telephone', 'going', 'going estimate', 'graves', 'graves hou', 'gross', 'gross carlos', 'gross production', 'gross tomorrow', 'harris', 'harris 12', 'harris get', 'hi', 'hi effective', 'high', 'high island', 'hou', 'hou ect', 'hours', 'hours 000', 'hours 10', 'hours 12', 'hours 14', 'hours 16', 'hours 18', 'hours 20', 'hours 22', 'hours 24', 'hours 26', 'hours 28', 'hours 30', 'hours 32', 'hours 34', 'hours 36', 'inc', 'inc carlos', 'inc darren', 'inc high', 'increase', 'increase following', 'island', 'island larger', 'larger', 'larger block', 'linda', 'linda advises', 'linda get', 'linda harris', 'linda numbers', 'mail', 'mail fax', 'melissa', 'melissa graves', 'min', 'min ftp', 'mscf', 'mscf min', 'nomination', 'nomination doc', 'nomination vastar', 'nominations', 'nominations via', 'north', 'north america', 'notification', 'notification turn', 'number', 'number gas', 'numbers', 'numbers record', 'owns', 'owns 68', 'please', 'please call', 'please see', 'previously', 'previously erroneously', 'production', 'production george', 'production high', 'production sometime', 'provide', 'provide notification', 'record', 'record 281', 'referred', 'referred well', 'resources', 'resources inc', 'rodriguez', 'rodriguez hou', 'saturday', 'saturday 00', 'see', 'see someone', 'set', 'set going', 'someone', 'someone contacts', 'sometime', 'sometime tomorrow', 'subject', 'subject hi', 'subject vastar', 'submit', 'submit future', 'telephone', 'telephone number', 'thanks', 'thanks george', 'time', 'time 500', 'told', 'told linda', 'tomorrow', 'tomorrow 000', 'tomorrow linda', 'tomorrow told', 'tomorrow vastar', 'turn', 'turn tomorrow', 'vastar', 'vastar expects', 'vastar owns', 'vastar resources', 'via', 'via mail', 'voice', 'voice 713', 'voice thanks', 'weissman', 'weissman 12', 'weissman hou', 'well', 'well commence', 'well vastar', 'would', 'would please']\n"
     ]
    }
   ],
   "source": [
    "vectorizer = CountVectorizer(stop_words=stopwords.words('english'), ngram_range=(1, 2))\n",
    "print(vectorizer.fit_transform(X_few_text))\n",
    "print(vectorizer.get_feature_names())"
   ]
  },
  {
   "cell_type": "code",
   "execution_count": 56,
   "metadata": {},
   "outputs": [],
   "source": [
    "email_pipeline = Pipeline([\n",
    "    (\"EmailJson to Words\", EmailJsonToText()),\n",
    "    (\"Words to Count Vector\", CountVectorizer(stop_words=stopwords.words('english'), ngram_range=(1, 2))),\n",
    "])"
   ]
  },
  {
   "cell_type": "code",
   "execution_count": 57,
   "metadata": {},
   "outputs": [],
   "source": [
    "X_augmented_train = email_pipeline.fit_transform(X_train)"
   ]
  },
  {
   "cell_type": "code",
   "execution_count": 58,
   "metadata": {},
   "outputs": [
    {
     "data": {
      "text/plain": [
       "0.9719603577471597"
      ]
     },
     "execution_count": 58,
     "metadata": {},
     "output_type": "execute_result"
    }
   ],
   "source": [
    "log_clf = LogisticRegression(solver=\"liblinear\", random_state=42)\n",
    "score = model_selection.cross_val_score(log_clf, X_augmented_train, y_train, cv=3)\n",
    "score.mean()"
   ]
  },
  {
   "cell_type": "code",
   "execution_count": 59,
   "metadata": {},
   "outputs": [
    {
     "name": "stdout",
     "output_type": "stream",
     "text": [
      "Precision: 91.53%\n",
      "Recall: 98.25%\n"
     ]
    }
   ],
   "source": [
    "X_augmented_test = email_pipeline.transform(X_test)\n",
    "\n",
    "log_clf = LogisticRegression(solver=\"liblinear\", random_state=42)\n",
    "log_clf.fit(X_augmented_train, y_train)\n",
    "\n",
    "y_pred = log_clf.predict(X_augmented_test)\n",
    "\n",
    "print(\"Precision: {:.2f}%\".format(100 * precision_score(y_test, y_pred)))\n",
    "print(\"Recall: {:.2f}%\".format(100 * recall_score(y_test, y_pred)))\n",
    "\n",
    "# only added stopwords, added ngrams -> precision 91.53%, recall 98.25%"
   ]
  },
  {
   "cell_type": "code",
   "execution_count": 64,
   "metadata": {},
   "outputs": [
    {
     "name": "stdout",
     "output_type": "stream",
     "text": [
      "246977\n"
     ]
    }
   ],
   "source": [
    "print(len(email_pipeline.named_steps['Words to Count Vector'].get_feature_names()))"
   ]
  },
  {
   "cell_type": "code",
   "execution_count": 69,
   "metadata": {},
   "outputs": [
    {
     "name": "stdout",
     "output_type": "stream",
     "text": [
      "Precision: 91.50%\n",
      "Recall: 97.90%\n"
     ]
    }
   ],
   "source": [
    "email_pipeline2 = Pipeline([\n",
    "    (\"EmailJson to Words\", EmailJsonToText(stemming=True, numberReplacement=True)),\n",
    "    (\"Words to Count Vector\", CountVectorizer(stop_words=stopwords.words('english'), ngram_range=(1, 2))),\n",
    "])\n",
    "\n",
    "X_augmented_train2 = email_pipeline2.fit_transform(X_train)\n",
    "X_augmented_test2 = email_pipeline2.transform(X_test)\n",
    "\n",
    "log_clf = LogisticRegression(solver=\"liblinear\", random_state=42)\n",
    "log_clf.fit(X_augmented_train2, y_train)\n",
    "\n",
    "y_pred2 = log_clf.predict(X_augmented_test2)\n",
    "\n",
    "print(\"Precision: {:.2f}%\".format(100 * precision_score(y_test, y_pred2)))\n",
    "print(\"Recall: {:.2f}%\".format(100 * recall_score(y_test, y_pred2)))"
   ]
  },
  {
   "cell_type": "code",
   "execution_count": 70,
   "metadata": {},
   "outputs": [
    {
     "name": "stdout",
     "output_type": "stream",
     "text": [
      "35171\n"
     ]
    }
   ],
   "source": [
    "print(len(email_pipeline2.named_steps['Words to Count Vector'].get_feature_names()))\n",
    "# with only stopword removal, with bi-gram support\n",
    "# 246977 features and 91.53% precision & 98.25% recall\n",
    "\n",
    "# with less non-sensical features, worse results??\n",
    "# with no numbers, without stemming\n",
    "# 224292 features and 91.78% precision & 97.55% recall\n",
    "\n",
    "# with no numbers, with stemming\n",
    "# 216467 features and 91.15% precision & 97.20% recall\n",
    "\n",
    "# with no bi-gram support, with no numbers, with stemming\n",
    "# 35171 features and 91.50% precision & 97.90% recall"
   ]
  },
  {
   "cell_type": "code",
   "execution_count": 81,
   "metadata": {},
   "outputs": [
    {
     "name": "stdout",
     "output_type": "stream",
     "text": [
      "(3, 373)\n",
      "  (1, 99)\t0.018790630518289823\n",
      "  (1, 9)\t0.018790630518289823\n",
      "  (1, 81)\t0.018790630518289823\n",
      "  (1, 268)\t0.018790630518289823\n",
      "  (1, 111)\t0.018790630518289823\n",
      "  (1, 12)\t0.018790630518289823\n",
      "  (1, 78)\t0.018790630518289823\n",
      "  (1, 267)\t0.018790630518289823\n",
      "  (1, 121)\t0.018790630518289823\n",
      "  (1, 16)\t0.018790630518289823\n",
      "  (1, 72)\t0.018790630518289823\n",
      "  (1, 266)\t0.018790630518289823\n",
      "  (1, 129)\t0.018790630518289823\n",
      "  (1, 19)\t0.018790630518289823\n",
      "  (1, 68)\t0.018790630518289823\n",
      "  (1, 265)\t0.018790630518289823\n",
      "  (1, 33)\t0.018790630518289823\n",
      "  (1, 4)\t0.018790630518289823\n",
      "  (1, 64)\t0.018790630518289823\n",
      "  (1, 264)\t0.018790630518289823\n",
      "  (1, 57)\t0.018790630518289823\n",
      "  (1, 5)\t0.018790630518289823\n",
      "  (1, 62)\t0.018790630518289823\n",
      "  (1, 263)\t0.018790630518289823\n",
      "  (1, 74)\t0.018790630518289823\n",
      "  :\t:\n",
      "  (1, 349)\t0.0751625220731593\n",
      "  (1, 3)\t0.3382313493292168\n",
      "  (1, 25)\t0.20669693570118802\n",
      "  (1, 204)\t0.03758126103657965\n",
      "  (1, 157)\t0.05637189155486947\n",
      "  (1, 240)\t0.05637189155486947\n",
      "  (1, 91)\t0.0751625220731593\n",
      "  (1, 0)\t0.03758126103657965\n",
      "  (1, 326)\t0.018790630518289823\n",
      "  (1, 169)\t0.018790630518289823\n",
      "  (1, 146)\t0.03758126103657965\n",
      "  (1, 277)\t0.03758126103657965\n",
      "  (1, 275)\t0.03758126103657965\n",
      "  (1, 249)\t0.03758126103657965\n",
      "  (1, 312)\t0.05637189155486947\n",
      "  (1, 224)\t0.03758126103657965\n",
      "  (2, 293)\t0.3501387057719138\n",
      "  (2, 229)\t0.3501387057719138\n",
      "  (2, 180)\t0.3501387057719138\n",
      "  (2, 156)\t0.3501387057719138\n",
      "  (2, 187)\t0.3501387057719138\n",
      "  (2, 179)\t0.3501387057719138\n",
      "  (2, 155)\t0.3501387057719138\n",
      "  (2, 227)\t0.2662895107233706\n",
      "  (2, 292)\t0.2662895107233706\n",
      "[[0.         0.         0.         ... 0.         0.         0.        ]\n",
      " [0.03758126 0.01879063 0.01879063 ... 0.01879063 0.01879063 0.01879063]\n",
      " [0.         0.         0.         ... 0.         0.         0.        ]]\n",
      "['00', '00 500', '00 daren', '000', '000 108', '000 224', '000 332', '000 431', '000 521', '000 549', '000 602', '000 674', '000 703', '000 738', '000 793', '000 840', '000 847', '000 878', '000 908', '000 982', '000 gross', '000 increase', '09', '09 38', '09 44', '10', '10 00', '10 000', '10 16', '10 34', '10 38', '10 99', '108', '108 24', '11', '11 99', '12', '12 000', '12 10', '12 11', '12 13', '13', '13 99', '14', '14 000', '16', '16 000', '16 daren', '1689', '1689 fax', '18', '18 000', '20', '20 000', '22', '22 000', '224', '224 24', '24', '24 000', '24 hours', '26', '26 000', '28', '28 000', '281', '281 584', '30', '30 000', '312', '312 1689', '32', '32 000', '332', '332 24', '3359', '3359 voice', '34', '34 000', '34 enron', '36', '36 000', '38', '38 43', '38 carlos', '43', '43 george', '431', '431 24', '44', '44 linda', '500', '500 10', '500 925', '500 coming', '500 gross', '521', '521 24', '549', '549 24', '584', '584 3359', '602', '602 24', '674', '674 24', '68', '68 gross', '6992', '6992 forwarded', '703', '703 24', '713', '713 312', '738', '738 24', '793', '793 24', '840', '840 24', '847', '847 24', '878', '878 24', '908', '908 24', '925', '925 24', '982', '982 24', '99', '99 09', '99 10', '99 mscf', 'advises', 'advises submit', 'america', 'america corp', 'appears', 'appears nomination', 'attached', 'attached appears', 'based', 'based conversations', 'bill', 'bill fischer', 'block', 'block commenced', 'block previously', 'bmar', 'bmar forwarded', 'bryan', 'bryan hou', 'call', 'call linda', 'calpine', 'calpine daily', 'carlos', 'carlos expects', 'carlos please', 'carlos rodriguez', 'cc', 'cc gary', 'cc george', 'cc subject', 'coming', 'coming tomorrow', 'commence', 'commence production', 'commenced', 'commenced saturday', 'contacts', 'contacts linda', 'control', 'control provide', 'conversations', 'conversations bill', 'corp', 'corp george', 'daily', 'daily gas', 'daren', 'daren farmer', 'darren', 'darren attached', 'day', 'day based', 'doc', 'ect', 'ect 12', 'ect cc', 'ect ect', 'ect melissa', 'ect subject', 'effective', 'effective 12', 'enron', 'enron north', 'erroneously', 'erroneously referred', 'estimate', 'estimate 500', 'everything', 'everything set', 'expects', 'expects 500', 'expects well', 'farmer', 'farmer 12', 'farmer hou', 'fax', 'fax voice', 'fax would', 'fischer', 'fischer bmar', 'following', 'following day', 'forwarded', 'forwarded daren', 'forwarded george', 'ftp', 'ftp time', 'future', 'future nominations', 'gary', 'gary bryan', 'gary production', 'gas', 'gas control', 'gas nomination', 'george', 'george 6992', 'george weissman', 'get', 'get everything', 'get telephone', 'going', 'going estimate', 'graves', 'graves hou', 'gross', 'gross carlos', 'gross production', 'gross tomorrow', 'harris', 'harris 12', 'harris get', 'hi', 'hi effective', 'high', 'high island', 'hou', 'hou ect', 'hours', 'hours 000', 'hours 10', 'hours 12', 'hours 14', 'hours 16', 'hours 18', 'hours 20', 'hours 22', 'hours 24', 'hours 26', 'hours 28', 'hours 30', 'hours 32', 'hours 34', 'hours 36', 'inc', 'inc carlos', 'inc darren', 'inc high', 'increase', 'increase following', 'island', 'island larger', 'larger', 'larger block', 'linda', 'linda advises', 'linda get', 'linda harris', 'linda numbers', 'mail', 'mail fax', 'melissa', 'melissa graves', 'min', 'min ftp', 'mscf', 'mscf min', 'nomination', 'nomination doc', 'nomination vastar', 'nominations', 'nominations via', 'north', 'north america', 'notification', 'notification turn', 'number', 'number gas', 'numbers', 'numbers record', 'owns', 'owns 68', 'please', 'please call', 'please see', 'previously', 'previously erroneously', 'production', 'production george', 'production high', 'production sometime', 'provide', 'provide notification', 'record', 'record 281', 'referred', 'referred well', 'resources', 'resources inc', 'rodriguez', 'rodriguez hou', 'saturday', 'saturday 00', 'see', 'see someone', 'set', 'set going', 'someone', 'someone contacts', 'sometime', 'sometime tomorrow', 'subject', 'subject hi', 'subject vastar', 'submit', 'submit future', 'telephone', 'telephone number', 'thanks', 'thanks george', 'time', 'time 500', 'told', 'told linda', 'tomorrow', 'tomorrow 000', 'tomorrow linda', 'tomorrow told', 'tomorrow vastar', 'turn', 'turn tomorrow', 'vastar', 'vastar expects', 'vastar owns', 'vastar resources', 'via', 'via mail', 'voice', 'voice 713', 'voice thanks', 'weissman', 'weissman 12', 'weissman hou', 'well', 'well commence', 'well vastar', 'would', 'would please']\n"
     ]
    }
   ],
   "source": [
    "tfidf_vectorizer = TfidfVectorizer(stop_words=stopwords.words('english'), ngram_range=(1, 2))\n",
    "tfidf_res = tfidf_vectorizer.fit_transform(X_few_text)\n",
    "print(tfidf_res.shape)\n",
    "print(tfidf_res)\n",
    "# instead of counts, we have tfidf values for each word, based on the corpus (X_few_text in this case)\n",
    "print(tfidf_res.todense())\n",
    "print(tfidf_vectorizer.get_feature_names())"
   ]
  },
  {
   "cell_type": "code",
   "execution_count": 82,
   "metadata": {},
   "outputs": [
    {
     "name": "stdout",
     "output_type": "stream",
     "text": [
      "Precision: 94.58%\n",
      "Recall: 97.55%\n"
     ]
    }
   ],
   "source": [
    "email_pipeline3 = Pipeline([\n",
    "    (\"EmailJson to Words\", EmailJsonToText(stemming=True, numberReplacement=True)),\n",
    "    (\"Words to TF-IDF Vector\", TfidfVectorizer(stop_words=stopwords.words('english'), ngram_range=(1, 2))),\n",
    "])\n",
    "\n",
    "X_augmented_train3 = email_pipeline3.fit_transform(X_train)\n",
    "X_augmented_test3 = email_pipeline3.transform(X_test)\n",
    "\n",
    "log_clf = LogisticRegression(solver=\"liblinear\", random_state=42)\n",
    "log_clf.fit(X_augmented_train3, y_train)\n",
    "\n",
    "y_pred3 = log_clf.predict(X_augmented_test3)\n",
    "\n",
    "print(\"Precision: {:.2f}%\".format(100 * precision_score(y_test, y_pred3)))\n",
    "print(\"Recall: {:.2f}%\".format(100 * recall_score(y_test, y_pred3)))"
   ]
  },
  {
   "cell_type": "code",
   "execution_count": null,
   "metadata": {},
   "outputs": [],
   "source": []
  }
 ],
 "metadata": {
  "kernelspec": {
   "display_name": "Python 3",
   "language": "python",
   "name": "python3"
  },
  "language_info": {
   "codemirror_mode": {
    "name": "ipython",
    "version": 3
   },
   "file_extension": ".py",
   "mimetype": "text/x-python",
   "name": "python",
   "nbconvert_exporter": "python",
   "pygments_lexer": "ipython3",
   "version": "3.8.2"
  }
 },
 "nbformat": 4,
 "nbformat_minor": 4
}
